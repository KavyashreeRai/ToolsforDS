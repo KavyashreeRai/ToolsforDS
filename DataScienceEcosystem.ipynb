{
 "cells": [
  {
   "cell_type": "markdown",
   "id": "1d3659bc",
   "metadata": {},
   "source": []
  },
  {
   "cell_type": "markdown",
   "id": "d85ee203",
   "metadata": {},
   "source": [
    "# DataScienceEcosystem.ipynb"
   ]
  },
  {
   "cell_type": "markdown",
   "id": "ea59fe56",
   "metadata": {},
   "source": [
    "#Introduction\n",
    "\n",
    "**Objectives**\n",
    "   <ul>\n",
    "    <li> List popular languages for Data Science</li>\n",
    "    <li> Some of the commonly used libraries used by Data Scientists</li>\n",
    "    <li> Data Science tools</li>\n",
    "    <li> Examples of evaluating arithmetic expressions in Python</li>\n"
    "   </ul>\n",
    "    \n",
    "\n",
    "In this notebook, Data Science Tools and Ecosystem are summarized.\n",
    "\n"
   ]
  },
  {
   "cell_type": "markdown",
   "id": "9b3f82cc",
   "metadata": {},
   "source": [
    "Some of the popular languages that Data Scientists use are:\n",
    "<ol>\n",
    "    <li> Python</li>\n",
    "    <li> SQL</li>\n",
    "    <li> R</li>\n",
    "    <li> Julia</li>\n",
    "    <li> Scala</li>\n",
    "   </ol>"
   ]
  },
  {
   "cell_type": "markdown",
   "id": "48b7a038",
   "metadata": {},
   "source": [
    "Some of the commonly used libraries used by Data Scientists include:\n",
    "1. Pandas\n",
    "2. Numpy\n",
    "3. Scikit-learn\n",
    "4. Matplotlib"
   ]
  },
  {
   "cell_type": "markdown",
   "id": "315b55e5",
   "metadata": {},
   "source": [
    "| Data Science Tools |\n",
    "| :-----: |\n",
    "| VS Code |\n",
    "| RStudio |\n",
    "| Jupyter |\n",
    "| SPider  |\n"
   ]
  },
  {
   "cell_type": "markdown",
   "id": "b659bdb5",
   "metadata": {},
   "source": [
    "### Below are a few examples of evaluating arithmetic expressions in Python\n",
    "\n",
    "#this a simple arithmetic expression to mutiply then add integers"
   ]
  },
  {
   "cell_type": "code",
   "execution_count": 11,
   "id": "a41bbe5c",
   "metadata": {},
   "outputs": [
    {
     "data": {
      "text/plain": [
       "17"
      ]
     },
     "execution_count": 11,
     "metadata": {},
     "output_type": "execute_result"
    }
   ],
   "source": [
    "(3*4)+5\n"
   ]
  },
  {
   "cell_type": "markdown",
   "id": "0b424124",
   "metadata": {},
   "source": [
    "#This will convert 200 minutes to hours by diving by 60"
   ]
  },
  {
   "cell_type": "code",
   "execution_count": 25,
   "id": "9916bf66",
   "metadata": {},
   "outputs": [
    {
     "data": {
      "text/plain": [
       "3.3333333333333335"
      ]
     },
     "execution_count": 25,
     "metadata": {},
     "output_type": "execute_result"
    }
   ],
   "source": [
    "200 / 60 "
   ]
  },
  {
   "cell_type": "code",
   "execution_count": null,
   "id": "3a320c5a",
   "metadata": {},
   "outputs": [],
   "source": [
    "## Author\n",
    "Kavyashree V"
   ]
  }
 ],
 "metadata": {
  "kernelspec": {
   "display_name": "Python 3 (ipykernel)",
   "language": "python",
   "name": "python3"
  },
  "language_info": {
   "codemirror_mode": {
    "name": "ipython",
    "version": 3
   },
   "file_extension": ".py",
   "mimetype": "text/x-python",
   "name": "python",
   "nbconvert_exporter": "python",
   "pygments_lexer": "ipython3",
   "version": "3.9.12"
  }
 },
 "nbformat": 4,
 "nbformat_minor": 5
}
